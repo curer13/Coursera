{
 "cells": [
  {
   "cell_type": "code",
   "execution_count": 138,
   "metadata": {},
   "outputs": [],
   "source": [
    "import numpy as np\n",
    "from scipy.linalg import solve"
   ]
  },
  {
   "cell_type": "code",
   "execution_count": 139,
   "metadata": {},
   "outputs": [],
   "source": [
    "def f(x):\n",
    "    return np.sin(x / 5) * np.exp(x / 10) + 5 * np.exp(-x / 2)"
   ]
  },
  {
   "cell_type": "code",
   "execution_count": 140,
   "metadata": {},
   "outputs": [],
   "source": [
    "#точки на большом промежутке\n",
    "x_ = np.arange(1, 16, dtype=float)\n",
    "y_ = f(x_)\n",
    "\n",
    "x_1 = 1.0\n",
    "y_1 = f(x_1)\n",
    "x_2 = 15.0\n",
    "y_2 = f(x_2)"
   ]
  },
  {
   "cell_type": "code",
   "execution_count": 141,
   "metadata": {},
   "outputs": [],
   "source": [
    "A = np.array([\n",
    "              [1, x_1],\n",
    "              [1, x_2]\n",
    "], dtype=float)\n",
    "b = np.array([y_1, y_2], dtype=float)"
   ]
  },
  {
   "cell_type": "code",
   "execution_count": 142,
   "metadata": {},
   "outputs": [
    {
     "name": "stdout",
     "output_type": "stream",
     "text": [
      "веса: [ 3.43914511 -0.18692825]\n"
     ]
    }
   ],
   "source": [
    "w_linear = solve(A,b)\n",
    "print('веса:', w_linear)"
   ]
  },
  {
   "cell_type": "code",
   "execution_count": 143,
   "metadata": {},
   "outputs": [
    {
     "name": "stdout",
     "output_type": "stream",
     "text": [
      "Решения системы уравнений: [3.25221687 0.63522142]\n",
      "Значения полиномов [3.25221687 0.63522142]\n"
     ]
    }
   ],
   "source": [
    "f_polinom = A.dot(w_linear)\n",
    "print('Решения системы уравнений:', b)\n",
    "print('Значения полиномов', f_polinom)"
   ]
  },
  {
   "cell_type": "code",
   "execution_count": 144,
   "metadata": {},
   "outputs": [],
   "source": [
    "x = [x_1, x_2]"
   ]
  },
  {
   "cell_type": "code",
   "execution_count": 145,
   "metadata": {},
   "outputs": [],
   "source": [
    "import matplotlib.pyplot as plt\n",
    "%matplotlib inline"
   ]
  },
  {
   "cell_type": "code",
   "execution_count": 146,
   "metadata": {
    "scrolled": false
   },
   "outputs": [
    {
     "data": {
      "text/plain": [
       "<matplotlib.legend.Legend at 0x6217f67b8>"
      ]
     },
     "execution_count": 146,
     "metadata": {},
     "output_type": "execute_result"
    },
    {
     "data": {
      "image/png": "[encoded data removed]",
      "text/plain": [
       "<Figure size 432x288 with 1 Axes>"
      ]
     },
     "metadata": {
      "needs_background": "light"
     },
     "output_type": "display_data"
    }
   ],
   "source": [
    "fig = plt.figure()\n",
    "ax = fig.add_axes([0,0,1,1])\n",
    "ax.plot(x, b, 'o', label='Значения функции')\n",
    "ax.plot(x, b, 'r^', label='На малом промежутке')\n",
    "ax.plot(x, f_polinom, label='Значения полинома')\n",
    "plt.legend()"
   ]
  },
  {
   "cell_type": "code",
   "execution_count": 147,
   "metadata": {},
   "outputs": [],
   "source": [
    "x_1 = 1.0\n",
    "y_1 = f(x_1)\n",
    "x_2 = 8.0\n",
    "y_2 = f(x_2)\n",
    "x_3 = 15.0\n",
    "y_3 = f(x_3)"
   ]
  },
  {
   "cell_type": "code",
   "execution_count": 148,
   "metadata": {},
   "outputs": [],
   "source": [
    "A = np.array([\n",
    "              [1, x_1, x_1**2],\n",
    "              [1, x_2, x_2**2],\n",
    "              [1, x_3, x_3**2]\n",
    "], dtype=float)\n",
    "b = np.array([y_1, y_2, y_3], dtype=float)"
   ]
  },
  {
   "cell_type": "code",
   "execution_count": 149,
   "metadata": {},
   "outputs": [
    {
     "name": "stdout",
     "output_type": "stream",
     "text": [
      "веса: [ 3.32512949 -0.06531159 -0.00760104]\n"
     ]
    }
   ],
   "source": [
    "w_quadra = np.linalg.solve(A, b)\n",
    "print('веса:', w_quadra)"
   ]
  },
  {
   "cell_type": "code",
   "execution_count": 150,
   "metadata": {},
   "outputs": [
    {
     "name": "stdout",
     "output_type": "stream",
     "text": [
      "Решения системы уравнений: [3.25221687 2.31617016 0.63522142]\n",
      "Значения полиномов [3.25221687 2.31617016 0.63522142]\n"
     ]
    }
   ],
   "source": [
    "f_polinom = A.dot(w_quadra)\n",
    "print('Решения системы уравнений:', b)\n",
    "print('Значения полиномов', f_polinom)"
   ]
  },
  {
   "cell_type": "code",
   "execution_count": 151,
   "metadata": {},
   "outputs": [],
   "source": [
    "x = [x_1, x_2, x_3]"
   ]
  },
  {
   "cell_type": "code",
   "execution_count": 152,
   "metadata": {},
   "outputs": [
    {
     "data": {
      "text/plain": [
       "<matplotlib.legend.Legend at 0x621a01fd0>"
      ]
     },
     "execution_count": 152,
     "metadata": {},
     "output_type": "execute_result"
    },
    {
     "data": {
      "image/png": "[encoded data removed]",
      "text/plain": [
       "<Figure size 432x288 with 1 Axes>"
      ]
     },
     "metadata": {
      "needs_background": "light"
     },
     "output_type": "display_data"
    }
   ],
   "source": [
    "fig = plt.figure()\n",
    "ax = fig.add_axes([0,0,1,1])\n",
    "ax.plot(x, b, 'o', label='Значения функции')\n",
    "ax.plot(x, b, 'r^', label='На малом промежутке')\n",
    "ax.plot(x, f_polinom, label='Значения полинома')\n",
    "plt.legend()"
   ]
  },
  {
   "cell_type": "code",
   "execution_count": 153,
   "metadata": {},
   "outputs": [],
   "source": [
    "x_1 = 1.0\n",
    "y_1 = f(x_1)\n",
    "x_2 = 4.0\n",
    "y_2 = f(x_2)\n",
    "x_3 = 10.0\n",
    "y_3 = f(x_3)\n",
    "x_4 = 15.0\n",
    "y_4 = f(x_4)"
   ]
  },
  {
   "cell_type": "code",
   "execution_count": 154,
   "metadata": {},
   "outputs": [],
   "source": [
    "A = np.array([\n",
    "              [1, x_1, x_1**2, x_1**3],\n",
    "              [1, x_2, x_2**2, x_2**3],\n",
    "              [1, x_3, x_3**2, x_3**3],\n",
    "              [1, x_4, x_4**2, x_4**3]\n",
    "], dtype=float)\n",
    "b = np.array([y_1, y_2, y_3, y_4], dtype=float)"
   ]
  },
  {
   "cell_type": "code",
   "execution_count": 155,
   "metadata": {},
   "outputs": [
    {
     "name": "stdout",
     "output_type": "stream",
     "text": [
      "веса: [ 4.36264154 -1.29552587  0.19333685 -0.00823565]\n"
     ]
    }
   ],
   "source": [
    "w_cubic = np.linalg.solve(A, b)\n",
    "print('веса:', w_cubic)"
   ]
  },
  {
   "cell_type": "code",
   "execution_count": 160,
   "metadata": {},
   "outputs": [
    {
     "name": "stdout",
     "output_type": "stream",
     "text": [
      "Решения системы уравнений: [3.25221687 1.74684595 2.50541641 0.63522142]\n",
      "Значения полинома [3.25221687 1.74684595 2.50541641 0.63522142]\n"
     ]
    }
   ],
   "source": [
    "f_polinom = A.dot(w_cubic)\n",
    "print('Решения системы уравнений:', b)\n",
    "print('Значения полинома', f_polinom)"
   ]
  },
  {
   "cell_type": "code",
   "execution_count": 161,
   "metadata": {},
   "outputs": [],
   "source": [
    "x = [x_1, x_2, x_3, x_4]"
   ]
  },
  {
   "cell_type": "code",
   "execution_count": 162,
   "metadata": {},
   "outputs": [
    {
     "data": {
      "text/plain": [
       "<matplotlib.legend.Legend at 0x620c0d588>"
      ]
     },
     "execution_count": 162,
     "metadata": {},
     "output_type": "execute_result"
    },
    {
     "data": {
      "image/png": "[encoded data removed]",
      "text/plain": [
       "<Figure size 432x288 with 1 Axes>"
      ]
     },
     "metadata": {
      "needs_background": "light"
     },
     "output_type": "display_data"
    }
   ],
   "source": [
    "fig = plt.figure()\n",
    "ax = fig.add_axes([0,0,1,1])\n",
    "ax.plot(x_, y_, 'go', label='Значения функции на большом промежутке')\n",
    "ax.plot(x, b, 'r^', label='На малом промежутке')\n",
    "ax.plot(x, f_polinom, label='Значения полинома')\n",
    "plt.legend()"
   ]
  },
  {
   "cell_type": "code",
   "execution_count": 164,
   "metadata": {},
   "outputs": [],
   "source": [
    "with open('submission-2.txt', 'w') as file:\n",
    "    file.write(f'{w_cubic[0]} {w_cubic[1]} {w_cubic[2]} {w_cubic[3]}')"
   ]
  },
  {
   "cell_type": "code",
   "execution_count": 165,
   "metadata": {},
   "outputs": [
    {
     "name": "stdout",
     "output_type": "stream",
     "text": [
      "4.3626415351180725 -1.295525865694845 0.19333684702151188 -0.008235651173320565"
     ]
    }
   ],
   "source": [
    "!cat submission-2.txt"
   ]
  },
  {
   "cell_type": "code",
   "execution_count": null,
   "metadata": {},
   "outputs": [],
   "source": []
  }
 ],
 "metadata": {
  "kernelspec": {
   "display_name": "Python 3",
   "language": "python",
   "name": "python3"
  },
  "language_info": {
   "codemirror_mode": {
    "name": "ipython",
    "version": 3
   },
   "file_extension": ".py",
   "mimetype": "text/x-python",
   "name": "python",
   "nbconvert_exporter": "python",
   "pygments_lexer": "ipython3",
   "version": "3.7.3"
  }
 },
 "nbformat": 4,
 "nbformat_minor": 2
}
