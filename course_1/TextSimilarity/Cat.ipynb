{
 "cells": [
  {
   "cell_type": "code",
   "execution_count": 14,
   "metadata": {},
   "outputs": [],
   "source": [
    "file = open('sentences.txt', 'r')\n",
    "snts = file.readlines()\n",
    "file.close()"
   ]
  },
  {
   "cell_type": "code",
   "execution_count": 15,
   "metadata": {},
   "outputs": [],
   "source": [
    "for i in range(len(snts)):\n",
    "    snts[i] = snts[i].lower()"
   ]
  },
  {
   "cell_type": "code",
   "execution_count": 16,
   "metadata": {},
   "outputs": [
    {
     "data": {
      "text/plain": [
       "254"
      ]
     },
     "execution_count": 16,
     "metadata": {},
     "output_type": "execute_result"
    }
   ],
   "source": [
    "import re\n",
    "words_all = {}\n",
    "j = 0\n",
    "\n",
    "for i in range(len(snts)):\n",
    "    word_list = re.split('[^a-z]', snts[i])\n",
    "    words = list(filter(lambda x: x!='', word_list))\n",
    "    for word in words:\n",
    "        if word not in words_all:\n",
    "            words_all[word]=j\n",
    "            j+=1\n",
    "len(words_all)"
   ]
  },
  {
   "cell_type": "code",
   "execution_count": 24,
   "metadata": {},
   "outputs": [
    {
     "name": "stdout",
     "output_type": "stream",
     "text": [
      "CPU times: user 4 µs, sys: 1 µs, total: 5 µs\n",
      "Wall time: 9.06 µs\n"
     ]
    },
    {
     "data": {
      "text/plain": [
       "(2, 2)"
      ]
     },
     "execution_count": 24,
     "metadata": {},
     "output_type": "execute_result"
    }
   ],
   "source": [
    "%time\n",
    "matrix = []\n",
    "for snt in snts:\n",
    "    row = []\n",
    "    for word in words_all:\n",
    "        row.append(snt.count(word))\n",
    "    matrix.append(row)"
   ]
  },
  {
   "cell_type": "code",
   "execution_count": 18,
   "metadata": {},
   "outputs": [
    {
     "name": "stdout",
     "output_type": "stream",
     "text": [
      "The first nearest sentence is 0.10555511876381107, with index 4\n",
      "\n",
      "The second nearest sentence is 0.11657075758219448, with index 1\n",
      "\n"
     ]
    }
   ],
   "source": [
    "from scipy.spatial.distance import cosine\n",
    "\n",
    "first = matrix[0]\n",
    "distances = []\n",
    "for i in range(len(matrix)):\n",
    "    distances.append(cosine(matrix[i], first))\n",
    "\n",
    "distances = [(val,idx) for (idx,val) in enumerate(distances)]\n",
    "\n",
    "distances.remove(min(distances))\n",
    "nearest_snt = min(distances)\n",
    "print(f\"The first nearest sentence is {nearest_snt[0]}, with index {nearest_snt[1]}\\n\")\n",
    "\n",
    "distances.remove(min(distances))\n",
    "second_snt = min(distances)\n",
    "print(f\"The second nearest sentence is {second_snt[0]}, with index {second_snt[1]}\\n\")"
   ]
  },
  {
   "cell_type": "code",
   "execution_count": 19,
   "metadata": {},
   "outputs": [
    {
     "name": "stdout",
     "output_type": "stream",
     "text": [
      "In comparison to dogs, cats have not undergone major changes during the domestication process.\r\n",
      "As cat simply catenates streams of bytes, it can be also used to concatenate binary files, where it will just concatenate sequence of bytes.\r\n",
      "A common interactive use of cat for a single file is to output the content of a file to standard output.\r\n",
      "Cats can hear sounds too faint or too high in frequency for human ears, such as those made by mice and other small animals.\r\n",
      "In one, people deliberately tamed cats in a process of artificial selection, as they were useful predators of vermin.\r\n",
      "The domesticated cat and its closest wild ancestor are both diploid organisms that possess 38 chromosomes and roughly 20,000 genes.\r\n",
      "Domestic cats are similar in size to the other members of the genus Felis, typically weighing between 4 and 5 kg (8.8 and 11.0 lb).\r\n",
      "However, if the output is piped or redirected, cat is unnecessary.\r\n",
      "cat with one named file is safer where human error is a concern - one wrong use of the default redirection symbol \">\" instead of \"<\" (often adjacent on keyboards) may permanently delete the file you were just needing to read.\r\n",
      "In terms of legibility, a sequence of commands starting with cat and connected by pipes has a clear left-to-right flow of information.\r\n",
      "Cat command is one of the basic commands that you learned when you started in the Unix / Linux world.\r\n",
      "Using cat command, the lines received from stdin can be redirected to a new file using redirection symbols.\r\n",
      "When you type simply cat command without any arguments, it just receives the stdin content and displays it in the stdout.\r\n",
      "Leopard was released on October 26, 2007 as the successor of Tiger (version 10.4), and is available in two editions.\r\n",
      "According to Apple, Leopard contains over 300 changes and enhancements over its predecessor, Mac OS X Tiger.\r\n",
      "As of Mid 2010, some Apple computers have firmware factory installed which will no longer allow installation of Mac OS X Leopard.\r\n",
      "Since Apple moved to using Intel processors in their computers, the OSx86 community has developed and now also allows Mac OS X Tiger and later releases to be installed on non-Apple x86-based computers.\r\n",
      "OS X Mountain Lion was released on July 25, 2012 for purchase and download through Apple's Mac App Store, as part of a switch to releasing OS X versions online and every year.\r\n",
      "Apple has released a small patch for the three most recent versions of Safari running on OS X Yosemite, Mavericks, and Mountain Lion.\r\n",
      "The Mountain Lion release marks the second time Apple has offered an incremental upgrade, rather than releasing a new cat entirely.\r\n",
      "Mac OS X Mountain Lion installs in place, so you won't need to create a separate disk or run the installation off an external drive.\r\n",
      "The fifth major update to Mac OS X, Leopard, contains such a mountain of features - more than 300 by Apple's count."
     ]
    }
   ],
   "source": [
    "!cat sentences.txt"
   ]
  },
  {
   "cell_type": "code",
   "execution_count": 25,
   "metadata": {},
   "outputs": [],
   "source": [
    "with open('submission-1.txt', 'w') as file:\n",
    "    file.write(f'{nearest_snt[1]} 6')"
   ]
  },
  {
   "cell_type": "code",
   "execution_count": 26,
   "metadata": {},
   "outputs": [
    {
     "name": "stdout",
     "output_type": "stream",
     "text": [
      "4 6"
     ]
    }
   ],
   "source": [
    "!cat submission-1.txt"
   ]
  },
  {
   "cell_type": "code",
   "execution_count": null,
   "metadata": {},
   "outputs": [],
   "source": []
  }
 ],
 "metadata": {
  "kernelspec": {
   "display_name": "Python 3",
   "language": "python",
   "name": "python3"
  },
  "language_info": {
   "codemirror_mode": {
    "name": "ipython",
    "version": 3
   },
   "file_extension": ".py",
   "mimetype": "text/x-python",
   "name": "python",
   "nbconvert_exporter": "python",
   "pygments_lexer": "ipython3",
   "version": "3.7.3"
  }
 },
 "nbformat": 4,
 "nbformat_minor": 2
}
